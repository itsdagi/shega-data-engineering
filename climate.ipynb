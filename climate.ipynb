{
 "cells": [
  {
   "cell_type": "markdown",
   "id": "10c596b9",
   "metadata": {},
   "source": [
    "installing required packages "
   ]
  },
  {
   "cell_type": "code",
   "execution_count": 2,
   "id": "3fd4d5d3",
   "metadata": {},
   "outputs": [],
   "source": [
    "import pandas as pd\n",
    "import matplotlib.pyplot as plt\n",
    "import numpy as np\n"
   ]
  },
  {
   "cell_type": "markdown",
   "id": "4b7e7992",
   "metadata": {},
   "source": [
    "loading the data set to my jupyter notebook environment"
   ]
  },
  {
   "cell_type": "code",
   "execution_count": 8,
   "id": "624acdd3",
   "metadata": {},
   "outputs": [
    {
     "data": {
      "application/vnd.microsoft.datawrangler.viewer.v0+json": {
       "columns": [
        {
         "name": "index",
         "rawType": "int64",
         "type": "integer"
        },
        {
         "name": "date",
         "rawType": "object",
         "type": "unknown"
        },
        {
         "name": "city",
         "rawType": "object",
         "type": "string"
        },
        {
         "name": "temperature_celsius",
         "rawType": "float64",
         "type": "float"
        },
        {
         "name": "humidity_percent",
         "rawType": "float64",
         "type": "float"
        },
        {
         "name": "wind_speed_kph",
         "rawType": "float64",
         "type": "float"
        },
        {
         "name": "weather_condition",
         "rawType": "object",
         "type": "string"
        }
       ],
       "conversionMethod": "pd.DataFrame",
       "ref": "ea96dab5-0ea2-4933-b87d-735d78628316",
       "rows": [
        [
         "0",
         "2023-01-01",
         "New York",
         "5.0",
         "60.0",
         "10.0",
         "Sunny"
        ],
        [
         "1",
         "01/02/2023",
         "New York",
         null,
         "65.0",
         "12.0",
         "Cloudy"
        ],
        [
         "2",
         "03-01-2023",
         "New York",
         "7.0",
         null,
         "8.0",
         "Rainy"
        ],
        [
         "3",
         null,
         "London",
         "8.0",
         "70.0",
         "15.0",
         "Unknown"
        ],
        [
         "4",
         "2023-01-02",
         "London",
         "6.0",
         "75.0",
         "20.0",
         "Snowy"
        ],
        [
         "5",
         "01/03/2023",
         "London",
         null,
         "80.0",
         "18.0",
         "Cloudy"
        ],
        [
         "6",
         "2023-01-01",
         "Tokyo",
         "10.0",
         "50.0",
         "5.0",
         "Sunny"
        ],
        [
         "7",
         "01/02/2023",
         "Tokyo",
         "12.0",
         "55.0",
         "6.0",
         "Cloudy"
        ],
        [
         "8",
         "03-01-2023",
         "Tokyo",
         null,
         "60.0",
         "7.0",
         "Unknown"
        ],
        [
         "9",
         "01-25-2023",
         "New York",
         null,
         "51.0",
         "20.3",
         "Sunny"
        ],
        [
         "10",
         "2023-01-12",
         "New York",
         null,
         null,
         "10.2",
         "Unknown"
        ],
        [
         "11",
         "14-01-2023",
         "New York",
         "15.7",
         null,
         "1.1",
         "Unknown"
        ],
        [
         "12",
         "01-07-2023",
         "New York",
         null,
         null,
         "17.9",
         "Snowy"
        ],
        [
         "13",
         "06/01/2023",
         "London",
         null,
         null,
         "11.1",
         "Unknown"
        ],
        [
         "14",
         "01/15/2023",
         "London",
         null,
         "56.0",
         null,
         "RAINY"
        ]
       ],
       "shape": {
        "columns": 6,
        "rows": 15
       }
      },
      "text/html": [
       "<div>\n",
       "<style scoped>\n",
       "    .dataframe tbody tr th:only-of-type {\n",
       "        vertical-align: middle;\n",
       "    }\n",
       "\n",
       "    .dataframe tbody tr th {\n",
       "        vertical-align: top;\n",
       "    }\n",
       "\n",
       "    .dataframe thead th {\n",
       "        text-align: right;\n",
       "    }\n",
       "</style>\n",
       "<table border=\"1\" class=\"dataframe\">\n",
       "  <thead>\n",
       "    <tr style=\"text-align: right;\">\n",
       "      <th></th>\n",
       "      <th>date</th>\n",
       "      <th>city</th>\n",
       "      <th>temperature_celsius</th>\n",
       "      <th>humidity_percent</th>\n",
       "      <th>wind_speed_kph</th>\n",
       "      <th>weather_condition</th>\n",
       "    </tr>\n",
       "  </thead>\n",
       "  <tbody>\n",
       "    <tr>\n",
       "      <th>0</th>\n",
       "      <td>2023-01-01</td>\n",
       "      <td>New York</td>\n",
       "      <td>5.0</td>\n",
       "      <td>60.0</td>\n",
       "      <td>10.0</td>\n",
       "      <td>Sunny</td>\n",
       "    </tr>\n",
       "    <tr>\n",
       "      <th>1</th>\n",
       "      <td>01/02/2023</td>\n",
       "      <td>New York</td>\n",
       "      <td>NaN</td>\n",
       "      <td>65.0</td>\n",
       "      <td>12.0</td>\n",
       "      <td>Cloudy</td>\n",
       "    </tr>\n",
       "    <tr>\n",
       "      <th>2</th>\n",
       "      <td>03-01-2023</td>\n",
       "      <td>New York</td>\n",
       "      <td>7.0</td>\n",
       "      <td>NaN</td>\n",
       "      <td>8.0</td>\n",
       "      <td>Rainy</td>\n",
       "    </tr>\n",
       "    <tr>\n",
       "      <th>3</th>\n",
       "      <td>NaN</td>\n",
       "      <td>London</td>\n",
       "      <td>8.0</td>\n",
       "      <td>70.0</td>\n",
       "      <td>15.0</td>\n",
       "      <td>Unknown</td>\n",
       "    </tr>\n",
       "    <tr>\n",
       "      <th>4</th>\n",
       "      <td>2023-01-02</td>\n",
       "      <td>London</td>\n",
       "      <td>6.0</td>\n",
       "      <td>75.0</td>\n",
       "      <td>20.0</td>\n",
       "      <td>Snowy</td>\n",
       "    </tr>\n",
       "    <tr>\n",
       "      <th>5</th>\n",
       "      <td>01/03/2023</td>\n",
       "      <td>London</td>\n",
       "      <td>NaN</td>\n",
       "      <td>80.0</td>\n",
       "      <td>18.0</td>\n",
       "      <td>Cloudy</td>\n",
       "    </tr>\n",
       "    <tr>\n",
       "      <th>6</th>\n",
       "      <td>2023-01-01</td>\n",
       "      <td>Tokyo</td>\n",
       "      <td>10.0</td>\n",
       "      <td>50.0</td>\n",
       "      <td>5.0</td>\n",
       "      <td>Sunny</td>\n",
       "    </tr>\n",
       "    <tr>\n",
       "      <th>7</th>\n",
       "      <td>01/02/2023</td>\n",
       "      <td>Tokyo</td>\n",
       "      <td>12.0</td>\n",
       "      <td>55.0</td>\n",
       "      <td>6.0</td>\n",
       "      <td>Cloudy</td>\n",
       "    </tr>\n",
       "    <tr>\n",
       "      <th>8</th>\n",
       "      <td>03-01-2023</td>\n",
       "      <td>Tokyo</td>\n",
       "      <td>NaN</td>\n",
       "      <td>60.0</td>\n",
       "      <td>7.0</td>\n",
       "      <td>Unknown</td>\n",
       "    </tr>\n",
       "    <tr>\n",
       "      <th>9</th>\n",
       "      <td>01-25-2023</td>\n",
       "      <td>New York</td>\n",
       "      <td>NaN</td>\n",
       "      <td>51.0</td>\n",
       "      <td>20.3</td>\n",
       "      <td>Sunny</td>\n",
       "    </tr>\n",
       "    <tr>\n",
       "      <th>10</th>\n",
       "      <td>2023-01-12</td>\n",
       "      <td>New York</td>\n",
       "      <td>NaN</td>\n",
       "      <td>NaN</td>\n",
       "      <td>10.2</td>\n",
       "      <td>Unknown</td>\n",
       "    </tr>\n",
       "    <tr>\n",
       "      <th>11</th>\n",
       "      <td>14-01-2023</td>\n",
       "      <td>New York</td>\n",
       "      <td>15.7</td>\n",
       "      <td>NaN</td>\n",
       "      <td>1.1</td>\n",
       "      <td>Unknown</td>\n",
       "    </tr>\n",
       "    <tr>\n",
       "      <th>12</th>\n",
       "      <td>01-07-2023</td>\n",
       "      <td>New York</td>\n",
       "      <td>NaN</td>\n",
       "      <td>NaN</td>\n",
       "      <td>17.9</td>\n",
       "      <td>Snowy</td>\n",
       "    </tr>\n",
       "    <tr>\n",
       "      <th>13</th>\n",
       "      <td>06/01/2023</td>\n",
       "      <td>London</td>\n",
       "      <td>NaN</td>\n",
       "      <td>NaN</td>\n",
       "      <td>11.1</td>\n",
       "      <td>Unknown</td>\n",
       "    </tr>\n",
       "    <tr>\n",
       "      <th>14</th>\n",
       "      <td>01/15/2023</td>\n",
       "      <td>London</td>\n",
       "      <td>NaN</td>\n",
       "      <td>56.0</td>\n",
       "      <td>NaN</td>\n",
       "      <td>RAINY</td>\n",
       "    </tr>\n",
       "  </tbody>\n",
       "</table>\n",
       "</div>"
      ],
      "text/plain": [
       "          date      city  temperature_celsius  humidity_percent  \\\n",
       "0   2023-01-01  New York                  5.0              60.0   \n",
       "1   01/02/2023  New York                  NaN              65.0   \n",
       "2   03-01-2023  New York                  7.0               NaN   \n",
       "3          NaN    London                  8.0              70.0   \n",
       "4   2023-01-02    London                  6.0              75.0   \n",
       "5   01/03/2023    London                  NaN              80.0   \n",
       "6   2023-01-01     Tokyo                 10.0              50.0   \n",
       "7   01/02/2023     Tokyo                 12.0              55.0   \n",
       "8   03-01-2023     Tokyo                  NaN              60.0   \n",
       "9   01-25-2023  New York                  NaN              51.0   \n",
       "10  2023-01-12  New York                  NaN               NaN   \n",
       "11  14-01-2023  New York                 15.7               NaN   \n",
       "12  01-07-2023  New York                  NaN               NaN   \n",
       "13  06/01/2023    London                  NaN               NaN   \n",
       "14  01/15/2023    London                  NaN              56.0   \n",
       "\n",
       "    wind_speed_kph weather_condition  \n",
       "0             10.0             Sunny  \n",
       "1             12.0            Cloudy  \n",
       "2              8.0             Rainy  \n",
       "3             15.0           Unknown  \n",
       "4             20.0             Snowy  \n",
       "5             18.0            Cloudy  \n",
       "6              5.0             Sunny  \n",
       "7              6.0            Cloudy  \n",
       "8              7.0           Unknown  \n",
       "9             20.3             Sunny  \n",
       "10            10.2           Unknown  \n",
       "11             1.1           Unknown  \n",
       "12            17.9             Snowy  \n",
       "13            11.1           Unknown  \n",
       "14             NaN             RAINY  "
      ]
     },
     "execution_count": 8,
     "metadata": {},
     "output_type": "execute_result"
    }
   ],
   "source": [
    "data = pd.read_csv(\"weather_data.csv\")\n",
    "data.head(15)"
   ]
  },
  {
   "cell_type": "code",
   "execution_count": 9,
   "id": "baa71c2d",
   "metadata": {},
   "outputs": [
    {
     "name": "stdout",
     "output_type": "stream",
     "text": [
      "Index(['date', 'city', 'temperature_celsius', 'humidity_percent',\n",
      "       'wind_speed_kph', 'weather_condition'],\n",
      "      dtype='object')\n",
      "date                    object\n",
      "city                    object\n",
      "temperature_celsius    float64\n",
      "humidity_percent       float64\n",
      "wind_speed_kph         float64\n",
      "weather_condition       object\n",
      "dtype: object\n"
     ]
    }
   ],
   "source": [
    "# displaying the columns\n",
    "print(data.columns)\n",
    "# displaying the data types of each column\n",
    "print(data.dtypes)"
   ]
  },
  {
   "cell_type": "code",
   "execution_count": 14,
   "id": "96a65586",
   "metadata": {},
   "outputs": [
    {
     "name": "stdout",
     "output_type": "stream",
     "text": [
      "Missing values in each column:\n",
      "date                   20\n",
      "city                    0\n",
      "temperature_celsius    58\n",
      "humidity_percent       53\n",
      "wind_speed_kph         45\n",
      "weather_condition      16\n",
      "dtype: int64\n",
      "Total missing values from all the dataset = 192\n"
     ]
    }
   ],
   "source": [
    "columns = data.columns\n",
    "missing_values = data.isnull().sum()\n",
    "print(\"Missing values in each column:\")\n",
    "print(missing_values)\n",
    "total_missing_values = missing_values.sum()\n",
    "print(f'Total missing values from all the dataset = {total_missing_values}')"
   ]
  },
  {
   "cell_type": "code",
   "execution_count": null,
   "id": "00d132b0",
   "metadata": {},
   "outputs": [],
   "source": []
  }
 ],
 "metadata": {
  "kernelspec": {
   "display_name": "base",
   "language": "python",
   "name": "python3"
  },
  "language_info": {
   "codemirror_mode": {
    "name": "ipython",
    "version": 3
   },
   "file_extension": ".py",
   "mimetype": "text/x-python",
   "name": "python",
   "nbconvert_exporter": "python",
   "pygments_lexer": "ipython3",
   "version": "3.12.3"
  }
 },
 "nbformat": 4,
 "nbformat_minor": 5
}
