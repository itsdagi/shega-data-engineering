{
 "cells": [
  {
   "cell_type": "markdown",
   "id": "a0539b41",
   "metadata": {},
   "source": [
    "1. Data Ingestion:"
   ]
  },
  {
   "cell_type": "markdown",
   "id": "10c596b9",
   "metadata": {},
   "source": [
    "installing required packages "
   ]
  },
  {
   "cell_type": "code",
   "execution_count": 2,
   "id": "3fd4d5d3",
   "metadata": {},
   "outputs": [],
   "source": [
    "import pandas as pd\n",
    "import matplotlib.pyplot as plt\n",
    "import numpy as np\n"
   ]
  },
  {
   "cell_type": "markdown",
   "id": "4b7e7992",
   "metadata": {},
   "source": [
    "loading the data set to my jupyter notebook environment"
   ]
  },
  {
   "cell_type": "code",
   "execution_count": 8,
   "id": "624acdd3",
   "metadata": {},
   "outputs": [
    {
     "data": {
      "application/vnd.microsoft.datawrangler.viewer.v0+json": {
       "columns": [
        {
         "name": "index",
         "rawType": "int64",
         "type": "integer"
        },
        {
         "name": "date",
         "rawType": "object",
         "type": "unknown"
        },
        {
         "name": "city",
         "rawType": "object",
         "type": "string"
        },
        {
         "name": "temperature_celsius",
         "rawType": "float64",
         "type": "float"
        },
        {
         "name": "humidity_percent",
         "rawType": "float64",
         "type": "float"
        },
        {
         "name": "wind_speed_kph",
         "rawType": "float64",
         "type": "float"
        },
        {
         "name": "weather_condition",
         "rawType": "object",
         "type": "string"
        }
       ],
       "conversionMethod": "pd.DataFrame",
       "ref": "ea96dab5-0ea2-4933-b87d-735d78628316",
       "rows": [
        [
         "0",
         "2023-01-01",
         "New York",
         "5.0",
         "60.0",
         "10.0",
         "Sunny"
        ],
        [
         "1",
         "01/02/2023",
         "New York",
         null,
         "65.0",
         "12.0",
         "Cloudy"
        ],
        [
         "2",
         "03-01-2023",
         "New York",
         "7.0",
         null,
         "8.0",
         "Rainy"
        ],
        [
         "3",
         null,
         "London",
         "8.0",
         "70.0",
         "15.0",
         "Unknown"
        ],
        [
         "4",
         "2023-01-02",
         "London",
         "6.0",
         "75.0",
         "20.0",
         "Snowy"
        ],
        [
         "5",
         "01/03/2023",
         "London",
         null,
         "80.0",
         "18.0",
         "Cloudy"
        ],
        [
         "6",
         "2023-01-01",
         "Tokyo",
         "10.0",
         "50.0",
         "5.0",
         "Sunny"
        ],
        [
         "7",
         "01/02/2023",
         "Tokyo",
         "12.0",
         "55.0",
         "6.0",
         "Cloudy"
        ],
        [
         "8",
         "03-01-2023",
         "Tokyo",
         null,
         "60.0",
         "7.0",
         "Unknown"
        ],
        [
         "9",
         "01-25-2023",
         "New York",
         null,
         "51.0",
         "20.3",
         "Sunny"
        ],
        [
         "10",
         "2023-01-12",
         "New York",
         null,
         null,
         "10.2",
         "Unknown"
        ],
        [
         "11",
         "14-01-2023",
         "New York",
         "15.7",
         null,
         "1.1",
         "Unknown"
        ],
        [
         "12",
         "01-07-2023",
         "New York",
         null,
         null,
         "17.9",
         "Snowy"
        ],
        [
         "13",
         "06/01/2023",
         "London",
         null,
         null,
         "11.1",
         "Unknown"
        ],
        [
         "14",
         "01/15/2023",
         "London",
         null,
         "56.0",
         null,
         "RAINY"
        ]
       ],
       "shape": {
        "columns": 6,
        "rows": 15
       }
      },
      "text/html": [
       "<div>\n",
       "<style scoped>\n",
       "    .dataframe tbody tr th:only-of-type {\n",
       "        vertical-align: middle;\n",
       "    }\n",
       "\n",
       "    .dataframe tbody tr th {\n",
       "        vertical-align: top;\n",
       "    }\n",
       "\n",
       "    .dataframe thead th {\n",
       "        text-align: right;\n",
       "    }\n",
       "</style>\n",
       "<table border=\"1\" class=\"dataframe\">\n",
       "  <thead>\n",
       "    <tr style=\"text-align: right;\">\n",
       "      <th></th>\n",
       "      <th>date</th>\n",
       "      <th>city</th>\n",
       "      <th>temperature_celsius</th>\n",
       "      <th>humidity_percent</th>\n",
       "      <th>wind_speed_kph</th>\n",
       "      <th>weather_condition</th>\n",
       "    </tr>\n",
       "  </thead>\n",
       "  <tbody>\n",
       "    <tr>\n",
       "      <th>0</th>\n",
       "      <td>2023-01-01</td>\n",
       "      <td>New York</td>\n",
       "      <td>5.0</td>\n",
       "      <td>60.0</td>\n",
       "      <td>10.0</td>\n",
       "      <td>Sunny</td>\n",
       "    </tr>\n",
       "    <tr>\n",
       "      <th>1</th>\n",
       "      <td>01/02/2023</td>\n",
       "      <td>New York</td>\n",
       "      <td>NaN</td>\n",
       "      <td>65.0</td>\n",
       "      <td>12.0</td>\n",
       "      <td>Cloudy</td>\n",
       "    </tr>\n",
       "    <tr>\n",
       "      <th>2</th>\n",
       "      <td>03-01-2023</td>\n",
       "      <td>New York</td>\n",
       "      <td>7.0</td>\n",
       "      <td>NaN</td>\n",
       "      <td>8.0</td>\n",
       "      <td>Rainy</td>\n",
       "    </tr>\n",
       "    <tr>\n",
       "      <th>3</th>\n",
       "      <td>NaN</td>\n",
       "      <td>London</td>\n",
       "      <td>8.0</td>\n",
       "      <td>70.0</td>\n",
       "      <td>15.0</td>\n",
       "      <td>Unknown</td>\n",
       "    </tr>\n",
       "    <tr>\n",
       "      <th>4</th>\n",
       "      <td>2023-01-02</td>\n",
       "      <td>London</td>\n",
       "      <td>6.0</td>\n",
       "      <td>75.0</td>\n",
       "      <td>20.0</td>\n",
       "      <td>Snowy</td>\n",
       "    </tr>\n",
       "    <tr>\n",
       "      <th>5</th>\n",
       "      <td>01/03/2023</td>\n",
       "      <td>London</td>\n",
       "      <td>NaN</td>\n",
       "      <td>80.0</td>\n",
       "      <td>18.0</td>\n",
       "      <td>Cloudy</td>\n",
       "    </tr>\n",
       "    <tr>\n",
       "      <th>6</th>\n",
       "      <td>2023-01-01</td>\n",
       "      <td>Tokyo</td>\n",
       "      <td>10.0</td>\n",
       "      <td>50.0</td>\n",
       "      <td>5.0</td>\n",
       "      <td>Sunny</td>\n",
       "    </tr>\n",
       "    <tr>\n",
       "      <th>7</th>\n",
       "      <td>01/02/2023</td>\n",
       "      <td>Tokyo</td>\n",
       "      <td>12.0</td>\n",
       "      <td>55.0</td>\n",
       "      <td>6.0</td>\n",
       "      <td>Cloudy</td>\n",
       "    </tr>\n",
       "    <tr>\n",
       "      <th>8</th>\n",
       "      <td>03-01-2023</td>\n",
       "      <td>Tokyo</td>\n",
       "      <td>NaN</td>\n",
       "      <td>60.0</td>\n",
       "      <td>7.0</td>\n",
       "      <td>Unknown</td>\n",
       "    </tr>\n",
       "    <tr>\n",
       "      <th>9</th>\n",
       "      <td>01-25-2023</td>\n",
       "      <td>New York</td>\n",
       "      <td>NaN</td>\n",
       "      <td>51.0</td>\n",
       "      <td>20.3</td>\n",
       "      <td>Sunny</td>\n",
       "    </tr>\n",
       "    <tr>\n",
       "      <th>10</th>\n",
       "      <td>2023-01-12</td>\n",
       "      <td>New York</td>\n",
       "      <td>NaN</td>\n",
       "      <td>NaN</td>\n",
       "      <td>10.2</td>\n",
       "      <td>Unknown</td>\n",
       "    </tr>\n",
       "    <tr>\n",
       "      <th>11</th>\n",
       "      <td>14-01-2023</td>\n",
       "      <td>New York</td>\n",
       "      <td>15.7</td>\n",
       "      <td>NaN</td>\n",
       "      <td>1.1</td>\n",
       "      <td>Unknown</td>\n",
       "    </tr>\n",
       "    <tr>\n",
       "      <th>12</th>\n",
       "      <td>01-07-2023</td>\n",
       "      <td>New York</td>\n",
       "      <td>NaN</td>\n",
       "      <td>NaN</td>\n",
       "      <td>17.9</td>\n",
       "      <td>Snowy</td>\n",
       "    </tr>\n",
       "    <tr>\n",
       "      <th>13</th>\n",
       "      <td>06/01/2023</td>\n",
       "      <td>London</td>\n",
       "      <td>NaN</td>\n",
       "      <td>NaN</td>\n",
       "      <td>11.1</td>\n",
       "      <td>Unknown</td>\n",
       "    </tr>\n",
       "    <tr>\n",
       "      <th>14</th>\n",
       "      <td>01/15/2023</td>\n",
       "      <td>London</td>\n",
       "      <td>NaN</td>\n",
       "      <td>56.0</td>\n",
       "      <td>NaN</td>\n",
       "      <td>RAINY</td>\n",
       "    </tr>\n",
       "  </tbody>\n",
       "</table>\n",
       "</div>"
      ],
      "text/plain": [
       "          date      city  temperature_celsius  humidity_percent  \\\n",
       "0   2023-01-01  New York                  5.0              60.0   \n",
       "1   01/02/2023  New York                  NaN              65.0   \n",
       "2   03-01-2023  New York                  7.0               NaN   \n",
       "3          NaN    London                  8.0              70.0   \n",
       "4   2023-01-02    London                  6.0              75.0   \n",
       "5   01/03/2023    London                  NaN              80.0   \n",
       "6   2023-01-01     Tokyo                 10.0              50.0   \n",
       "7   01/02/2023     Tokyo                 12.0              55.0   \n",
       "8   03-01-2023     Tokyo                  NaN              60.0   \n",
       "9   01-25-2023  New York                  NaN              51.0   \n",
       "10  2023-01-12  New York                  NaN               NaN   \n",
       "11  14-01-2023  New York                 15.7               NaN   \n",
       "12  01-07-2023  New York                  NaN               NaN   \n",
       "13  06/01/2023    London                  NaN               NaN   \n",
       "14  01/15/2023    London                  NaN              56.0   \n",
       "\n",
       "    wind_speed_kph weather_condition  \n",
       "0             10.0             Sunny  \n",
       "1             12.0            Cloudy  \n",
       "2              8.0             Rainy  \n",
       "3             15.0           Unknown  \n",
       "4             20.0             Snowy  \n",
       "5             18.0            Cloudy  \n",
       "6              5.0             Sunny  \n",
       "7              6.0            Cloudy  \n",
       "8              7.0           Unknown  \n",
       "9             20.3             Sunny  \n",
       "10            10.2           Unknown  \n",
       "11             1.1           Unknown  \n",
       "12            17.9             Snowy  \n",
       "13            11.1           Unknown  \n",
       "14             NaN             RAINY  "
      ]
     },
     "execution_count": 8,
     "metadata": {},
     "output_type": "execute_result"
    }
   ],
   "source": [
    "data = pd.read_csv(\"weather_data.csv\")\n",
    "data.head(15)"
   ]
  },
  {
   "cell_type": "markdown",
   "id": "c1b9bef9",
   "metadata": {},
   "source": [
    "2. Data Cleaning and Transformation:"
   ]
  },
  {
   "cell_type": "code",
   "execution_count": 9,
   "id": "baa71c2d",
   "metadata": {},
   "outputs": [
    {
     "name": "stdout",
     "output_type": "stream",
     "text": [
      "Index(['date', 'city', 'temperature_celsius', 'humidity_percent',\n",
      "       'wind_speed_kph', 'weather_condition'],\n",
      "      dtype='object')\n",
      "date                    object\n",
      "city                    object\n",
      "temperature_celsius    float64\n",
      "humidity_percent       float64\n",
      "wind_speed_kph         float64\n",
      "weather_condition       object\n",
      "dtype: object\n"
     ]
    }
   ],
   "source": [
    "# displaying the columns\n",
    "print(data.columns)\n",
    "# displaying the data types of each column\n",
    "print(data.dtypes)"
   ]
  },
  {
   "cell_type": "code",
   "execution_count": 14,
   "id": "96a65586",
   "metadata": {},
   "outputs": [
    {
     "name": "stdout",
     "output_type": "stream",
     "text": [
      "Missing values in each column:\n",
      "date                   20\n",
      "city                    0\n",
      "temperature_celsius    58\n",
      "humidity_percent       53\n",
      "wind_speed_kph         45\n",
      "weather_condition      16\n",
      "dtype: int64\n",
      "Total missing values from all the dataset = 192\n"
     ]
    }
   ],
   "source": [
    "columns = data.columns\n",
    "missing_values = data.isnull().sum()\n",
    "print(\"Missing values in each column:\")\n",
    "print(missing_values)\n",
    "total_missing_values = missing_values.sum()\n",
    "print(f'Total missing values from all the dataset = {total_missing_values}')"
   ]
  },
  {
   "cell_type": "markdown",
   "id": "1bb6980a",
   "metadata": {},
   "source": [
    "Now lets handle the missing values in the data set"
   ]
  },
  {
   "cell_type": "code",
   "execution_count": 17,
   "id": "00d132b0",
   "metadata": {},
   "outputs": [
    {
     "name": "stderr",
     "output_type": "stream",
     "text": [
      "C:\\Users\\HP Laptop 15\\AppData\\Local\\Temp\\ipykernel_13504\\3096710616.py:6: FutureWarning: A value is trying to be set on a copy of a DataFrame or Series through chained assignment using an inplace method.\n",
      "The behavior will change in pandas 3.0. This inplace method will never work because the intermediate object on which we are setting values always behaves as a copy.\n",
      "\n",
      "For example, when doing 'df[col].method(value, inplace=True)', try using 'df.method({col: value}, inplace=True)' or df[col] = df[col].method(value) instead, to perform the operation inplace on the original object.\n",
      "\n",
      "\n",
      "  imputed_data[column].fillna(mean_value, inplace=True)\n"
     ]
    }
   ],
   "source": [
    "# handling missing values with mean imputation for columns with numerical data and store it in a imputed dataset\n",
    "imputed_data = data.copy()\n",
    "for column in columns:\n",
    "    if data[column].dtype == 'float64' or data[column].dtype == 'int64':\n",
    "        mean_value = data[column].mean()\n",
    "        imputed_data[column].fillna(mean_value, inplace=True)\n",
    "\n"
   ]
  },
  {
   "cell_type": "code",
   "execution_count": 18,
   "id": "a09fdbbd",
   "metadata": {},
   "outputs": [
    {
     "data": {
      "application/vnd.microsoft.datawrangler.viewer.v0+json": {
       "columns": [
        {
         "name": "index",
         "rawType": "int64",
         "type": "integer"
        },
        {
         "name": "date",
         "rawType": "object",
         "type": "unknown"
        },
        {
         "name": "city",
         "rawType": "object",
         "type": "string"
        },
        {
         "name": "temperature_celsius",
         "rawType": "float64",
         "type": "float"
        },
        {
         "name": "humidity_percent",
         "rawType": "float64",
         "type": "float"
        },
        {
         "name": "wind_speed_kph",
         "rawType": "float64",
         "type": "float"
        },
        {
         "name": "weather_condition",
         "rawType": "object",
         "type": "unknown"
        }
       ],
       "conversionMethod": "pd.DataFrame",
       "ref": "a24280e5-5804-48ce-9249-7f31185aa939",
       "rows": [
        [
         "0",
         "2023-01-01",
         "New York",
         "5.0",
         "60.0",
         "10.0",
         "Sunny"
        ],
        [
         "1",
         "01/02/2023",
         "New York",
         "8.4",
         "65.0",
         "12.0",
         "Cloudy"
        ],
        [
         "2",
         "03-01-2023",
         "New York",
         "7.0",
         "58.97872340425532",
         "8.0",
         "Rainy"
        ],
        [
         "3",
         null,
         "London",
         "8.0",
         "70.0",
         "15.0",
         "Unknown"
        ],
        [
         "4",
         "2023-01-02",
         "London",
         "6.0",
         "75.0",
         "20.0",
         "Snowy"
        ],
        [
         "5",
         "01/03/2023",
         "London",
         "8.4",
         "80.0",
         "18.0",
         "Cloudy"
        ],
        [
         "6",
         "2023-01-01",
         "Tokyo",
         "10.0",
         "50.0",
         "5.0",
         "Sunny"
        ],
        [
         "7",
         "01/02/2023",
         "Tokyo",
         "12.0",
         "55.0",
         "6.0",
         "Cloudy"
        ],
        [
         "8",
         "03-01-2023",
         "Tokyo",
         "8.4",
         "60.0",
         "7.0",
         "Unknown"
        ],
        [
         "9",
         "01-25-2023",
         "New York",
         "8.4",
         "51.0",
         "20.3",
         "Sunny"
        ],
        [
         "10",
         "2023-01-12",
         "New York",
         "8.4",
         "58.97872340425532",
         "10.2",
         "Unknown"
        ],
        [
         "11",
         "14-01-2023",
         "New York",
         "15.7",
         "58.97872340425532",
         "1.1",
         "Unknown"
        ],
        [
         "12",
         "01-07-2023",
         "New York",
         "8.4",
         "58.97872340425532",
         "17.9",
         "Snowy"
        ],
        [
         "13",
         "06/01/2023",
         "London",
         "8.4",
         "58.97872340425532",
         "11.1",
         "Unknown"
        ],
        [
         "14",
         "01/15/2023",
         "London",
         "8.4",
         "56.0",
         "14.352727272727275",
         "RAINY"
        ],
        [
         "15",
         null,
         "London",
         "8.4",
         "65.0",
         "15.1",
         "RAINY"
        ],
        [
         "16",
         "2023-01-12",
         "Tokyo",
         "8.4",
         "61.0",
         "14.352727272727275",
         "RAINY"
        ],
        [
         "17",
         "14.01.2023",
         "London",
         "8.4",
         "58.97872340425532",
         "14.352727272727275",
         null
        ],
        [
         "18",
         "25/01/2023",
         "London",
         "8.4",
         "58.97872340425532",
         "7.4",
         "Unknown"
        ],
        [
         "19",
         "01/19/2023",
         "Tokyo",
         "8.9",
         "58.97872340425532",
         "14.352727272727275",
         null
        ],
        [
         "20",
         "01-25-2023",
         "Tokyo",
         "6.2",
         "58.97872340425532",
         "27.1",
         "Rainy"
        ],
        [
         "21",
         "17/01/2023",
         "Tokyo",
         "19.3",
         "43.0",
         "14.352727272727275",
         "RAINY"
        ],
        [
         "22",
         "14.01.2023",
         "New York",
         "16.1",
         "45.0",
         "15.6",
         null
        ],
        [
         "23",
         "2023-01-05",
         "London",
         "8.4",
         "60.0",
         "14.352727272727275",
         "Rainy"
        ],
        [
         "24",
         "07/01/2023",
         "London",
         "8.4",
         "58.97872340425532",
         "14.352727272727275",
         null
        ],
        [
         "25",
         null,
         "Tokyo",
         "-1.2",
         "38.0",
         "14.352727272727275",
         null
        ],
        [
         "26",
         null,
         "Tokyo",
         "8.4",
         "58.97872340425532",
         "29.7",
         "Sunny"
        ],
        [
         "27",
         "2023-01-26",
         "New York",
         "0.5",
         "37.0",
         "26.3",
         "unknown"
        ],
        [
         "28",
         "01/16/2023",
         "New York",
         "8.4",
         "58.97872340425532",
         "14.352727272727275",
         "Rainy"
        ],
        [
         "29",
         null,
         "London",
         "8.4",
         "58.97872340425532",
         "14.352727272727275",
         "Sunny"
        ],
        [
         "30",
         null,
         "New York",
         "8.4",
         "89.0",
         "27.8",
         "Cloudy"
        ],
        [
         "31",
         null,
         "Tokyo",
         "17.5",
         "79.0",
         "1.0",
         "Unknown"
        ],
        [
         "32",
         "01/26/2023",
         "Tokyo",
         "-2.7",
         "58.97872340425532",
         "14.352727272727275",
         "RAINY"
        ],
        [
         "33",
         "18-01-2023",
         "Tokyo",
         "8.4",
         "55.0",
         "2.2",
         "Cloudy"
        ],
        [
         "34",
         "25.01.2023",
         "New York",
         "12.9",
         "58.97872340425532",
         "5.7",
         "Sunny"
        ],
        [
         "35",
         "07.01.2023",
         "London",
         "8.4",
         "72.0",
         "8.1",
         "Sunny"
        ],
        [
         "36",
         "17/01/2023",
         "New York",
         "8.4",
         "61.0",
         "25.1",
         "RAINY"
        ],
        [
         "37",
         null,
         "New York",
         "8.4",
         "89.0",
         "23.3",
         "Rainy"
        ],
        [
         "38",
         "01/28/2023",
         "New York",
         "18.4",
         "58.97872340425532",
         "14.352727272727275",
         "Unknown"
        ],
        [
         "39",
         "2023-01-17",
         "Tokyo",
         "8.4",
         "58.97872340425532",
         "17.6",
         "Unknown"
        ],
        [
         "40",
         "27.01.2023",
         "Tokyo",
         "8.1",
         "58.97872340425532",
         "19.1",
         "unknown"
        ],
        [
         "41",
         "2023-01-29",
         "Tokyo",
         "10.2",
         "58.97872340425532",
         "14.352727272727275",
         "Cloudy"
        ],
        [
         "42",
         null,
         "New York",
         "15.1",
         "35.0",
         "14.352727272727275",
         null
        ],
        [
         "43",
         "01-21-2023",
         "Tokyo",
         "8.4",
         "44.0",
         "3.5",
         "RAINY"
        ],
        [
         "44",
         null,
         "London",
         "8.4",
         "69.0",
         "11.4",
         "RAINY"
        ],
        [
         "45",
         "01/15/2023",
         "New York",
         "8.4",
         "58.97872340425532",
         "14.352727272727275",
         "Unknown"
        ],
        [
         "46",
         null,
         "Tokyo",
         "8.4",
         "58.97872340425532",
         "14.352727272727275",
         "Snowy"
        ],
        [
         "47",
         "26.01.2023",
         "Tokyo",
         "8.4",
         "47.0",
         "14.352727272727275",
         "unknown"
        ],
        [
         "48",
         null,
         "London",
         "8.4",
         "58.97872340425532",
         "13.1",
         "Unknown"
        ],
        [
         "49",
         "21.01.2023",
         "Tokyo",
         "3.4",
         "49.0",
         "3.5",
         "Snowy"
        ]
       ],
       "shape": {
        "columns": 6,
        "rows": 100
       }
      },
      "text/html": [
       "<div>\n",
       "<style scoped>\n",
       "    .dataframe tbody tr th:only-of-type {\n",
       "        vertical-align: middle;\n",
       "    }\n",
       "\n",
       "    .dataframe tbody tr th {\n",
       "        vertical-align: top;\n",
       "    }\n",
       "\n",
       "    .dataframe thead th {\n",
       "        text-align: right;\n",
       "    }\n",
       "</style>\n",
       "<table border=\"1\" class=\"dataframe\">\n",
       "  <thead>\n",
       "    <tr style=\"text-align: right;\">\n",
       "      <th></th>\n",
       "      <th>date</th>\n",
       "      <th>city</th>\n",
       "      <th>temperature_celsius</th>\n",
       "      <th>humidity_percent</th>\n",
       "      <th>wind_speed_kph</th>\n",
       "      <th>weather_condition</th>\n",
       "    </tr>\n",
       "  </thead>\n",
       "  <tbody>\n",
       "    <tr>\n",
       "      <th>0</th>\n",
       "      <td>2023-01-01</td>\n",
       "      <td>New York</td>\n",
       "      <td>5.0</td>\n",
       "      <td>60.000000</td>\n",
       "      <td>10.000000</td>\n",
       "      <td>Sunny</td>\n",
       "    </tr>\n",
       "    <tr>\n",
       "      <th>1</th>\n",
       "      <td>01/02/2023</td>\n",
       "      <td>New York</td>\n",
       "      <td>8.4</td>\n",
       "      <td>65.000000</td>\n",
       "      <td>12.000000</td>\n",
       "      <td>Cloudy</td>\n",
       "    </tr>\n",
       "    <tr>\n",
       "      <th>2</th>\n",
       "      <td>03-01-2023</td>\n",
       "      <td>New York</td>\n",
       "      <td>7.0</td>\n",
       "      <td>58.978723</td>\n",
       "      <td>8.000000</td>\n",
       "      <td>Rainy</td>\n",
       "    </tr>\n",
       "    <tr>\n",
       "      <th>3</th>\n",
       "      <td>NaN</td>\n",
       "      <td>London</td>\n",
       "      <td>8.0</td>\n",
       "      <td>70.000000</td>\n",
       "      <td>15.000000</td>\n",
       "      <td>Unknown</td>\n",
       "    </tr>\n",
       "    <tr>\n",
       "      <th>4</th>\n",
       "      <td>2023-01-02</td>\n",
       "      <td>London</td>\n",
       "      <td>6.0</td>\n",
       "      <td>75.000000</td>\n",
       "      <td>20.000000</td>\n",
       "      <td>Snowy</td>\n",
       "    </tr>\n",
       "    <tr>\n",
       "      <th>...</th>\n",
       "      <td>...</td>\n",
       "      <td>...</td>\n",
       "      <td>...</td>\n",
       "      <td>...</td>\n",
       "      <td>...</td>\n",
       "      <td>...</td>\n",
       "    </tr>\n",
       "    <tr>\n",
       "      <th>95</th>\n",
       "      <td>01-01-2023</td>\n",
       "      <td>London</td>\n",
       "      <td>8.4</td>\n",
       "      <td>58.978723</td>\n",
       "      <td>14.352727</td>\n",
       "      <td>Rainy</td>\n",
       "    </tr>\n",
       "    <tr>\n",
       "      <th>96</th>\n",
       "      <td>09-01-2023</td>\n",
       "      <td>London</td>\n",
       "      <td>8.4</td>\n",
       "      <td>58.978723</td>\n",
       "      <td>14.352727</td>\n",
       "      <td>Rainy</td>\n",
       "    </tr>\n",
       "    <tr>\n",
       "      <th>97</th>\n",
       "      <td>2023-01-11</td>\n",
       "      <td>Tokyo</td>\n",
       "      <td>8.4</td>\n",
       "      <td>58.978723</td>\n",
       "      <td>14.352727</td>\n",
       "      <td>Sunny</td>\n",
       "    </tr>\n",
       "    <tr>\n",
       "      <th>98</th>\n",
       "      <td>15/01/2023</td>\n",
       "      <td>New York</td>\n",
       "      <td>8.4</td>\n",
       "      <td>41.000000</td>\n",
       "      <td>24.300000</td>\n",
       "      <td>NaN</td>\n",
       "    </tr>\n",
       "    <tr>\n",
       "      <th>99</th>\n",
       "      <td>01/12/2023</td>\n",
       "      <td>London</td>\n",
       "      <td>13.7</td>\n",
       "      <td>41.000000</td>\n",
       "      <td>14.352727</td>\n",
       "      <td>Unknown</td>\n",
       "    </tr>\n",
       "  </tbody>\n",
       "</table>\n",
       "<p>100 rows × 6 columns</p>\n",
       "</div>"
      ],
      "text/plain": [
       "          date      city  temperature_celsius  humidity_percent  \\\n",
       "0   2023-01-01  New York                  5.0         60.000000   \n",
       "1   01/02/2023  New York                  8.4         65.000000   \n",
       "2   03-01-2023  New York                  7.0         58.978723   \n",
       "3          NaN    London                  8.0         70.000000   \n",
       "4   2023-01-02    London                  6.0         75.000000   \n",
       "..         ...       ...                  ...               ...   \n",
       "95  01-01-2023    London                  8.4         58.978723   \n",
       "96  09-01-2023    London                  8.4         58.978723   \n",
       "97  2023-01-11     Tokyo                  8.4         58.978723   \n",
       "98  15/01/2023  New York                  8.4         41.000000   \n",
       "99  01/12/2023    London                 13.7         41.000000   \n",
       "\n",
       "    wind_speed_kph weather_condition  \n",
       "0        10.000000             Sunny  \n",
       "1        12.000000            Cloudy  \n",
       "2         8.000000             Rainy  \n",
       "3        15.000000           Unknown  \n",
       "4        20.000000             Snowy  \n",
       "..             ...               ...  \n",
       "95       14.352727             Rainy  \n",
       "96       14.352727             Rainy  \n",
       "97       14.352727             Sunny  \n",
       "98       24.300000               NaN  \n",
       "99       14.352727           Unknown  \n",
       "\n",
       "[100 rows x 6 columns]"
      ]
     },
     "execution_count": 18,
     "metadata": {},
     "output_type": "execute_result"
    }
   ],
   "source": [
    "imputed_data"
   ]
  },
  {
   "cell_type": "markdown",
   "id": "ccef8a66",
   "metadata": {},
   "source": [
    "converting date to date time fromat "
   ]
  },
  {
   "cell_type": "code",
   "execution_count": null,
   "id": "4bf45d5a",
   "metadata": {},
   "outputs": [],
   "source": [
    "# converting the datae column to datetime format\n",
    "imputed_data['date'] = pd.to_datetime(imputed_data['date'], dayfirst= True errors= 'coerce')\n",
    "imputed_data"
   ]
  },
  {
   "cell_type": "code",
   "execution_count": null,
   "id": "cade7d2d",
   "metadata": {},
   "outputs": [
    {
     "data": {
      "application/vnd.microsoft.datawrangler.viewer.v0+json": {
       "columns": [
        {
         "name": "index",
         "rawType": "int64",
         "type": "integer"
        },
        {
         "name": "date",
         "rawType": "datetime64[ns]",
         "type": "datetime"
        },
        {
         "name": "city",
         "rawType": "object",
         "type": "string"
        },
        {
         "name": "temperature_celsius",
         "rawType": "float64",
         "type": "float"
        },
        {
         "name": "humidity_percent",
         "rawType": "float64",
         "type": "float"
        },
        {
         "name": "wind_speed_kph",
         "rawType": "float64",
         "type": "float"
        },
        {
         "name": "weather_condition",
         "rawType": "object",
         "type": "unknown"
        }
       ],
       "conversionMethod": "pd.DataFrame",
       "ref": "01cd539c-630a-4b8c-a16a-ba061e39d511",
       "rows": [
        [
         "0",
         "2023-01-01 00:00:00",
         "New York",
         "5.0",
         "60.0",
         "10.0",
         "Sunny"
        ],
        [
         "1",
         "2023-02-01 00:00:00",
         "New York",
         "8.4",
         "65.0",
         "12.0",
         "Cloudy"
        ],
        [
         "2",
         "2023-01-03 00:00:00",
         "New York",
         "7.0",
         "58.97872340425532",
         "8.0",
         "Rainy"
        ],
        [
         "3",
         null,
         "London",
         "8.0",
         "70.0",
         "15.0",
         "Unknown"
        ],
        [
         "4",
         "2023-01-02 00:00:00",
         "London",
         "6.0",
         "75.0",
         "20.0",
         "Snowy"
        ],
        [
         "5",
         "2023-03-01 00:00:00",
         "London",
         "8.4",
         "80.0",
         "18.0",
         "Cloudy"
        ],
        [
         "6",
         "2023-01-01 00:00:00",
         "Tokyo",
         "10.0",
         "50.0",
         "5.0",
         "Sunny"
        ],
        [
         "7",
         "2023-02-01 00:00:00",
         "Tokyo",
         "12.0",
         "55.0",
         "6.0",
         "Cloudy"
        ],
        [
         "8",
         "2023-01-03 00:00:00",
         "Tokyo",
         "8.4",
         "60.0",
         "7.0",
         "Unknown"
        ],
        [
         "9",
         "2023-01-25 00:00:00",
         "New York",
         "8.4",
         "51.0",
         "20.3",
         "Sunny"
        ],
        [
         "10",
         "2023-01-12 00:00:00",
         "New York",
         "8.4",
         "58.97872340425532",
         "10.2",
         "Unknown"
        ],
        [
         "11",
         "2023-01-14 00:00:00",
         "New York",
         "15.7",
         "58.97872340425532",
         "1.1",
         "Unknown"
        ],
        [
         "12",
         "2023-07-01 00:00:00",
         "New York",
         "8.4",
         "58.97872340425532",
         "17.9",
         "Snowy"
        ],
        [
         "13",
         "2023-01-06 00:00:00",
         "London",
         "8.4",
         "58.97872340425532",
         "11.1",
         "Unknown"
        ],
        [
         "14",
         "2023-01-15 00:00:00",
         "London",
         "8.4",
         "56.0",
         "14.352727272727275",
         "RAINY"
        ],
        [
         "15",
         null,
         "London",
         "8.4",
         "65.0",
         "15.1",
         "RAINY"
        ],
        [
         "16",
         "2023-01-12 00:00:00",
         "Tokyo",
         "8.4",
         "61.0",
         "14.352727272727275",
         "RAINY"
        ],
        [
         "17",
         "2023-01-14 00:00:00",
         "London",
         "8.4",
         "58.97872340425532",
         "14.352727272727275",
         null
        ],
        [
         "18",
         "2023-01-25 00:00:00",
         "London",
         "8.4",
         "58.97872340425532",
         "7.4",
         "Unknown"
        ],
        [
         "19",
         "2023-01-19 00:00:00",
         "Tokyo",
         "8.9",
         "58.97872340425532",
         "14.352727272727275",
         null
        ],
        [
         "20",
         "2023-01-25 00:00:00",
         "Tokyo",
         "6.2",
         "58.97872340425532",
         "27.1",
         "Rainy"
        ],
        [
         "21",
         "2023-01-17 00:00:00",
         "Tokyo",
         "19.3",
         "43.0",
         "14.352727272727275",
         "RAINY"
        ],
        [
         "22",
         "2023-01-14 00:00:00",
         "New York",
         "16.1",
         "45.0",
         "15.6",
         null
        ],
        [
         "23",
         "2023-01-05 00:00:00",
         "London",
         "8.4",
         "60.0",
         "14.352727272727275",
         "Rainy"
        ],
        [
         "24",
         "2023-01-07 00:00:00",
         "London",
         "8.4",
         "58.97872340425532",
         "14.352727272727275",
         null
        ],
        [
         "25",
         null,
         "Tokyo",
         "-1.2",
         "38.0",
         "14.352727272727275",
         null
        ],
        [
         "26",
         null,
         "Tokyo",
         "8.4",
         "58.97872340425532",
         "29.7",
         "Sunny"
        ],
        [
         "27",
         "2023-01-26 00:00:00",
         "New York",
         "0.5",
         "37.0",
         "26.3",
         "unknown"
        ],
        [
         "28",
         "2023-01-16 00:00:00",
         "New York",
         "8.4",
         "58.97872340425532",
         "14.352727272727275",
         "Rainy"
        ],
        [
         "29",
         null,
         "London",
         "8.4",
         "58.97872340425532",
         "14.352727272727275",
         "Sunny"
        ],
        [
         "30",
         null,
         "New York",
         "8.4",
         "89.0",
         "27.8",
         "Cloudy"
        ],
        [
         "31",
         null,
         "Tokyo",
         "17.5",
         "79.0",
         "1.0",
         "Unknown"
        ],
        [
         "32",
         "2023-01-26 00:00:00",
         "Tokyo",
         "-2.7",
         "58.97872340425532",
         "14.352727272727275",
         "RAINY"
        ],
        [
         "33",
         "2023-01-18 00:00:00",
         "Tokyo",
         "8.4",
         "55.0",
         "2.2",
         "Cloudy"
        ],
        [
         "34",
         "2023-01-25 00:00:00",
         "New York",
         "12.9",
         "58.97872340425532",
         "5.7",
         "Sunny"
        ],
        [
         "35",
         "2023-01-07 00:00:00",
         "London",
         "8.4",
         "72.0",
         "8.1",
         "Sunny"
        ],
        [
         "36",
         "2023-01-17 00:00:00",
         "New York",
         "8.4",
         "61.0",
         "25.1",
         "RAINY"
        ],
        [
         "37",
         null,
         "New York",
         "8.4",
         "89.0",
         "23.3",
         "Rainy"
        ],
        [
         "38",
         "2023-01-28 00:00:00",
         "New York",
         "18.4",
         "58.97872340425532",
         "14.352727272727275",
         "Unknown"
        ],
        [
         "39",
         "2023-01-17 00:00:00",
         "Tokyo",
         "8.4",
         "58.97872340425532",
         "17.6",
         "Unknown"
        ],
        [
         "40",
         "2023-01-27 00:00:00",
         "Tokyo",
         "8.1",
         "58.97872340425532",
         "19.1",
         "unknown"
        ],
        [
         "41",
         "2023-01-29 00:00:00",
         "Tokyo",
         "10.2",
         "58.97872340425532",
         "14.352727272727275",
         "Cloudy"
        ],
        [
         "42",
         null,
         "New York",
         "15.1",
         "35.0",
         "14.352727272727275",
         null
        ],
        [
         "43",
         "2023-01-21 00:00:00",
         "Tokyo",
         "8.4",
         "44.0",
         "3.5",
         "RAINY"
        ],
        [
         "44",
         null,
         "London",
         "8.4",
         "69.0",
         "11.4",
         "RAINY"
        ],
        [
         "45",
         "2023-01-15 00:00:00",
         "New York",
         "8.4",
         "58.97872340425532",
         "14.352727272727275",
         "Unknown"
        ],
        [
         "46",
         null,
         "Tokyo",
         "8.4",
         "58.97872340425532",
         "14.352727272727275",
         "Snowy"
        ],
        [
         "47",
         "2023-01-26 00:00:00",
         "Tokyo",
         "8.4",
         "47.0",
         "14.352727272727275",
         "unknown"
        ],
        [
         "48",
         null,
         "London",
         "8.4",
         "58.97872340425532",
         "13.1",
         "Unknown"
        ],
        [
         "49",
         "2023-01-21 00:00:00",
         "Tokyo",
         "3.4",
         "49.0",
         "3.5",
         "Snowy"
        ]
       ],
       "shape": {
        "columns": 6,
        "rows": 100
       }
      },
      "text/html": [
       "<div>\n",
       "<style scoped>\n",
       "    .dataframe tbody tr th:only-of-type {\n",
       "        vertical-align: middle;\n",
       "    }\n",
       "\n",
       "    .dataframe tbody tr th {\n",
       "        vertical-align: top;\n",
       "    }\n",
       "\n",
       "    .dataframe thead th {\n",
       "        text-align: right;\n",
       "    }\n",
       "</style>\n",
       "<table border=\"1\" class=\"dataframe\">\n",
       "  <thead>\n",
       "    <tr style=\"text-align: right;\">\n",
       "      <th></th>\n",
       "      <th>date</th>\n",
       "      <th>city</th>\n",
       "      <th>temperature_celsius</th>\n",
       "      <th>humidity_percent</th>\n",
       "      <th>wind_speed_kph</th>\n",
       "      <th>weather_condition</th>\n",
       "    </tr>\n",
       "  </thead>\n",
       "  <tbody>\n",
       "    <tr>\n",
       "      <th>0</th>\n",
       "      <td>2023-01-01</td>\n",
       "      <td>New York</td>\n",
       "      <td>5.0</td>\n",
       "      <td>60.000000</td>\n",
       "      <td>10.000000</td>\n",
       "      <td>Sunny</td>\n",
       "    </tr>\n",
       "    <tr>\n",
       "      <th>1</th>\n",
       "      <td>2023-02-01</td>\n",
       "      <td>New York</td>\n",
       "      <td>8.4</td>\n",
       "      <td>65.000000</td>\n",
       "      <td>12.000000</td>\n",
       "      <td>Cloudy</td>\n",
       "    </tr>\n",
       "    <tr>\n",
       "      <th>2</th>\n",
       "      <td>2023-01-03</td>\n",
       "      <td>New York</td>\n",
       "      <td>7.0</td>\n",
       "      <td>58.978723</td>\n",
       "      <td>8.000000</td>\n",
       "      <td>Rainy</td>\n",
       "    </tr>\n",
       "    <tr>\n",
       "      <th>3</th>\n",
       "      <td>NaT</td>\n",
       "      <td>London</td>\n",
       "      <td>8.0</td>\n",
       "      <td>70.000000</td>\n",
       "      <td>15.000000</td>\n",
       "      <td>Unknown</td>\n",
       "    </tr>\n",
       "    <tr>\n",
       "      <th>4</th>\n",
       "      <td>2023-01-02</td>\n",
       "      <td>London</td>\n",
       "      <td>6.0</td>\n",
       "      <td>75.000000</td>\n",
       "      <td>20.000000</td>\n",
       "      <td>Snowy</td>\n",
       "    </tr>\n",
       "    <tr>\n",
       "      <th>...</th>\n",
       "      <td>...</td>\n",
       "      <td>...</td>\n",
       "      <td>...</td>\n",
       "      <td>...</td>\n",
       "      <td>...</td>\n",
       "      <td>...</td>\n",
       "    </tr>\n",
       "    <tr>\n",
       "      <th>95</th>\n",
       "      <td>2023-01-01</td>\n",
       "      <td>London</td>\n",
       "      <td>8.4</td>\n",
       "      <td>58.978723</td>\n",
       "      <td>14.352727</td>\n",
       "      <td>Rainy</td>\n",
       "    </tr>\n",
       "    <tr>\n",
       "      <th>96</th>\n",
       "      <td>2023-01-09</td>\n",
       "      <td>London</td>\n",
       "      <td>8.4</td>\n",
       "      <td>58.978723</td>\n",
       "      <td>14.352727</td>\n",
       "      <td>Rainy</td>\n",
       "    </tr>\n",
       "    <tr>\n",
       "      <th>97</th>\n",
       "      <td>2023-01-11</td>\n",
       "      <td>Tokyo</td>\n",
       "      <td>8.4</td>\n",
       "      <td>58.978723</td>\n",
       "      <td>14.352727</td>\n",
       "      <td>Sunny</td>\n",
       "    </tr>\n",
       "    <tr>\n",
       "      <th>98</th>\n",
       "      <td>2023-01-15</td>\n",
       "      <td>New York</td>\n",
       "      <td>8.4</td>\n",
       "      <td>41.000000</td>\n",
       "      <td>24.300000</td>\n",
       "      <td>NaN</td>\n",
       "    </tr>\n",
       "    <tr>\n",
       "      <th>99</th>\n",
       "      <td>2023-12-01</td>\n",
       "      <td>London</td>\n",
       "      <td>13.7</td>\n",
       "      <td>41.000000</td>\n",
       "      <td>14.352727</td>\n",
       "      <td>Unknown</td>\n",
       "    </tr>\n",
       "  </tbody>\n",
       "</table>\n",
       "<p>100 rows × 6 columns</p>\n",
       "</div>"
      ],
      "text/plain": [
       "         date      city  temperature_celsius  humidity_percent  \\\n",
       "0  2023-01-01  New York                  5.0         60.000000   \n",
       "1  2023-02-01  New York                  8.4         65.000000   \n",
       "2  2023-01-03  New York                  7.0         58.978723   \n",
       "3         NaT    London                  8.0         70.000000   \n",
       "4  2023-01-02    London                  6.0         75.000000   \n",
       "..        ...       ...                  ...               ...   \n",
       "95 2023-01-01    London                  8.4         58.978723   \n",
       "96 2023-01-09    London                  8.4         58.978723   \n",
       "97 2023-01-11     Tokyo                  8.4         58.978723   \n",
       "98 2023-01-15  New York                  8.4         41.000000   \n",
       "99 2023-12-01    London                 13.7         41.000000   \n",
       "\n",
       "    wind_speed_kph weather_condition  \n",
       "0        10.000000             Sunny  \n",
       "1        12.000000            Cloudy  \n",
       "2         8.000000             Rainy  \n",
       "3        15.000000           Unknown  \n",
       "4        20.000000             Snowy  \n",
       "..             ...               ...  \n",
       "95       14.352727             Rainy  \n",
       "96       14.352727             Rainy  \n",
       "97       14.352727             Sunny  \n",
       "98       24.300000               NaN  \n",
       "99       14.352727           Unknown  \n",
       "\n",
       "[100 rows x 6 columns]"
      ]
     },
     "execution_count": 26,
     "metadata": {},
     "output_type": "execute_result"
    }
   ],
   "source": []
  },
  {
   "cell_type": "code",
   "execution_count": 28,
   "id": "545c10cd",
   "metadata": {},
   "outputs": [
    {
     "name": "stdout",
     "output_type": "stream",
     "text": [
      "0    41.00\n",
      "1    47.12\n",
      "2    44.60\n",
      "3    46.40\n",
      "4    42.80\n",
      "5    47.12\n",
      "6    50.00\n",
      "7    53.60\n",
      "8    47.12\n",
      "9    47.12\n",
      "Name:  temperature_fahrenheit, dtype: float64\n"
     ]
    }
   ],
   "source": [
    "# before storing frahnheit values in the new col lets assign the value to 0 since we are going to sotre numeric values\n",
    "data[' temperature_fahrenheit'] = 0\n",
    "data[' temperature_fahrenheit'] = data['temperature_celsius'] * 9/5 + 32\n",
    "print(data[' temperature_fahrenheit'].head(10))"
   ]
  },
  {
   "cell_type": "code",
   "execution_count": 30,
   "id": "3e8dff20",
   "metadata": {},
   "outputs": [
    {
     "data": {
      "application/vnd.microsoft.datawrangler.viewer.v0+json": {
       "columns": [
        {
         "name": "index",
         "rawType": "int64",
         "type": "integer"
        },
        {
         "name": "date",
         "rawType": "datetime64[ns]",
         "type": "datetime"
        },
        {
         "name": "city",
         "rawType": "object",
         "type": "string"
        },
        {
         "name": "temperature_celsius",
         "rawType": "float64",
         "type": "float"
        },
        {
         "name": "humidity_percent",
         "rawType": "float64",
         "type": "float"
        },
        {
         "name": "wind_speed_kph",
         "rawType": "float64",
         "type": "float"
        },
        {
         "name": "weather_condition",
         "rawType": "object",
         "type": "string"
        }
       ],
       "conversionMethod": "pd.DataFrame",
       "ref": "a1bd7b3e-54e2-4faf-bb1a-fece67b0e537",
       "rows": [
        [
         "0",
         "2023-01-01 00:00:00",
         "New York",
         "5.0",
         "60.0",
         "10.0",
         "Sunny"
        ],
        [
         "1",
         "2023-02-01 00:00:00",
         "New York",
         "8.4",
         "65.0",
         "12.0",
         "Cloudy"
        ],
        [
         "2",
         "2023-01-03 00:00:00",
         "New York",
         "7.0",
         "58.97872340425532",
         "8.0",
         "Rainy"
        ],
        [
         "3",
         null,
         "London",
         "8.0",
         "70.0",
         "15.0",
         "Unknown"
        ],
        [
         "4",
         "2023-01-02 00:00:00",
         "London",
         "6.0",
         "75.0",
         "20.0",
         "Snowy"
        ],
        [
         "5",
         "2023-03-01 00:00:00",
         "London",
         "8.4",
         "80.0",
         "18.0",
         "Cloudy"
        ],
        [
         "6",
         "2023-01-01 00:00:00",
         "Tokyo",
         "10.0",
         "50.0",
         "5.0",
         "Sunny"
        ],
        [
         "7",
         "2023-02-01 00:00:00",
         "Tokyo",
         "12.0",
         "55.0",
         "6.0",
         "Cloudy"
        ],
        [
         "8",
         "2023-01-03 00:00:00",
         "Tokyo",
         "8.4",
         "60.0",
         "7.0",
         "Unknown"
        ],
        [
         "9",
         "2023-01-25 00:00:00",
         "New York",
         "8.4",
         "51.0",
         "20.3",
         "Sunny"
        ],
        [
         "10",
         "2023-01-12 00:00:00",
         "New York",
         "8.4",
         "58.97872340425532",
         "10.2",
         "Unknown"
        ],
        [
         "11",
         "2023-01-14 00:00:00",
         "New York",
         "15.7",
         "58.97872340425532",
         "1.1",
         "Unknown"
        ],
        [
         "12",
         "2023-07-01 00:00:00",
         "New York",
         "8.4",
         "58.97872340425532",
         "17.9",
         "Snowy"
        ],
        [
         "13",
         "2023-01-06 00:00:00",
         "London",
         "8.4",
         "58.97872340425532",
         "11.1",
         "Unknown"
        ],
        [
         "14",
         "2023-01-15 00:00:00",
         "London",
         "8.4",
         "56.0",
         "14.352727272727275",
         "RAINY"
        ],
        [
         "15",
         null,
         "London",
         "8.4",
         "65.0",
         "15.1",
         "RAINY"
        ],
        [
         "16",
         "2023-01-12 00:00:00",
         "Tokyo",
         "8.4",
         "61.0",
         "14.352727272727275",
         "RAINY"
        ],
        [
         "18",
         "2023-01-25 00:00:00",
         "London",
         "8.4",
         "58.97872340425532",
         "7.4",
         "Unknown"
        ],
        [
         "20",
         "2023-01-25 00:00:00",
         "Tokyo",
         "6.2",
         "58.97872340425532",
         "27.1",
         "Rainy"
        ],
        [
         "21",
         "2023-01-17 00:00:00",
         "Tokyo",
         "19.3",
         "43.0",
         "14.352727272727275",
         "RAINY"
        ],
        [
         "23",
         "2023-01-05 00:00:00",
         "London",
         "8.4",
         "60.0",
         "14.352727272727275",
         "Rainy"
        ],
        [
         "26",
         null,
         "Tokyo",
         "8.4",
         "58.97872340425532",
         "29.7",
         "Sunny"
        ],
        [
         "28",
         "2023-01-16 00:00:00",
         "New York",
         "8.4",
         "58.97872340425532",
         "14.352727272727275",
         "Rainy"
        ],
        [
         "29",
         null,
         "London",
         "8.4",
         "58.97872340425532",
         "14.352727272727275",
         "Sunny"
        ],
        [
         "30",
         null,
         "New York",
         "8.4",
         "89.0",
         "27.8",
         "Cloudy"
        ],
        [
         "31",
         null,
         "Tokyo",
         "17.5",
         "79.0",
         "1.0",
         "Unknown"
        ],
        [
         "32",
         "2023-01-26 00:00:00",
         "Tokyo",
         "-2.7",
         "58.97872340425532",
         "14.352727272727275",
         "RAINY"
        ],
        [
         "33",
         "2023-01-18 00:00:00",
         "Tokyo",
         "8.4",
         "55.0",
         "2.2",
         "Cloudy"
        ],
        [
         "34",
         "2023-01-25 00:00:00",
         "New York",
         "12.9",
         "58.97872340425532",
         "5.7",
         "Sunny"
        ],
        [
         "35",
         "2023-01-07 00:00:00",
         "London",
         "8.4",
         "72.0",
         "8.1",
         "Sunny"
        ],
        [
         "36",
         "2023-01-17 00:00:00",
         "New York",
         "8.4",
         "61.0",
         "25.1",
         "RAINY"
        ],
        [
         "37",
         null,
         "New York",
         "8.4",
         "89.0",
         "23.3",
         "Rainy"
        ],
        [
         "38",
         "2023-01-28 00:00:00",
         "New York",
         "18.4",
         "58.97872340425532",
         "14.352727272727275",
         "Unknown"
        ],
        [
         "39",
         "2023-01-17 00:00:00",
         "Tokyo",
         "8.4",
         "58.97872340425532",
         "17.6",
         "Unknown"
        ],
        [
         "41",
         "2023-01-29 00:00:00",
         "Tokyo",
         "10.2",
         "58.97872340425532",
         "14.352727272727275",
         "Cloudy"
        ],
        [
         "43",
         "2023-01-21 00:00:00",
         "Tokyo",
         "8.4",
         "44.0",
         "3.5",
         "RAINY"
        ],
        [
         "44",
         null,
         "London",
         "8.4",
         "69.0",
         "11.4",
         "RAINY"
        ],
        [
         "45",
         "2023-01-15 00:00:00",
         "New York",
         "8.4",
         "58.97872340425532",
         "14.352727272727275",
         "Unknown"
        ],
        [
         "46",
         null,
         "Tokyo",
         "8.4",
         "58.97872340425532",
         "14.352727272727275",
         "Snowy"
        ],
        [
         "48",
         null,
         "London",
         "8.4",
         "58.97872340425532",
         "13.1",
         "Unknown"
        ],
        [
         "49",
         "2023-01-21 00:00:00",
         "Tokyo",
         "3.4",
         "49.0",
         "3.5",
         "Snowy"
        ],
        [
         "50",
         "2023-10-01 00:00:00",
         "London",
         "8.4",
         "46.0",
         "14.352727272727275",
         "RAINY"
        ],
        [
         "51",
         "2023-01-17 00:00:00",
         "London",
         "15.1",
         "58.97872340425532",
         "14.352727272727275",
         "Unknown"
        ],
        [
         "52",
         "2023-08-01 00:00:00",
         "New York",
         "2.9",
         "58.97872340425532",
         "14.352727272727275",
         "Unknown"
        ],
        [
         "53",
         "2023-01-12 00:00:00",
         "New York",
         "8.4",
         "58.97872340425532",
         "2.3",
         "Sunny"
        ],
        [
         "55",
         "2023-01-22 00:00:00",
         "New York",
         "13.4",
         "58.97872340425532",
         "14.352727272727275",
         "Snowy"
        ],
        [
         "56",
         "2023-01-29 00:00:00",
         "New York",
         "3.4",
         "58.97872340425532",
         "14.352727272727275",
         "Snowy"
        ],
        [
         "57",
         "2023-01-01 00:00:00",
         "London",
         "8.4",
         "78.0",
         "8.1",
         "Unknown"
        ],
        [
         "58",
         null,
         "New York",
         "8.4",
         "31.0",
         "14.352727272727275",
         "Snowy"
        ],
        [
         "59",
         "2023-01-21 00:00:00",
         "Tokyo",
         "8.4",
         "88.0",
         "14.352727272727275",
         "Cloudy"
        ]
       ],
       "shape": {
        "columns": 6,
        "rows": 74
       }
      },
      "text/html": [
       "<div>\n",
       "<style scoped>\n",
       "    .dataframe tbody tr th:only-of-type {\n",
       "        vertical-align: middle;\n",
       "    }\n",
       "\n",
       "    .dataframe tbody tr th {\n",
       "        vertical-align: top;\n",
       "    }\n",
       "\n",
       "    .dataframe thead th {\n",
       "        text-align: right;\n",
       "    }\n",
       "</style>\n",
       "<table border=\"1\" class=\"dataframe\">\n",
       "  <thead>\n",
       "    <tr style=\"text-align: right;\">\n",
       "      <th></th>\n",
       "      <th>date</th>\n",
       "      <th>city</th>\n",
       "      <th>temperature_celsius</th>\n",
       "      <th>humidity_percent</th>\n",
       "      <th>wind_speed_kph</th>\n",
       "      <th>weather_condition</th>\n",
       "    </tr>\n",
       "  </thead>\n",
       "  <tbody>\n",
       "    <tr>\n",
       "      <th>0</th>\n",
       "      <td>2023-01-01</td>\n",
       "      <td>New York</td>\n",
       "      <td>5.0</td>\n",
       "      <td>60.000000</td>\n",
       "      <td>10.000000</td>\n",
       "      <td>Sunny</td>\n",
       "    </tr>\n",
       "    <tr>\n",
       "      <th>1</th>\n",
       "      <td>2023-02-01</td>\n",
       "      <td>New York</td>\n",
       "      <td>8.4</td>\n",
       "      <td>65.000000</td>\n",
       "      <td>12.000000</td>\n",
       "      <td>Cloudy</td>\n",
       "    </tr>\n",
       "    <tr>\n",
       "      <th>2</th>\n",
       "      <td>2023-01-03</td>\n",
       "      <td>New York</td>\n",
       "      <td>7.0</td>\n",
       "      <td>58.978723</td>\n",
       "      <td>8.000000</td>\n",
       "      <td>Rainy</td>\n",
       "    </tr>\n",
       "    <tr>\n",
       "      <th>3</th>\n",
       "      <td>NaT</td>\n",
       "      <td>London</td>\n",
       "      <td>8.0</td>\n",
       "      <td>70.000000</td>\n",
       "      <td>15.000000</td>\n",
       "      <td>Unknown</td>\n",
       "    </tr>\n",
       "    <tr>\n",
       "      <th>4</th>\n",
       "      <td>2023-01-02</td>\n",
       "      <td>London</td>\n",
       "      <td>6.0</td>\n",
       "      <td>75.000000</td>\n",
       "      <td>20.000000</td>\n",
       "      <td>Snowy</td>\n",
       "    </tr>\n",
       "    <tr>\n",
       "      <th>...</th>\n",
       "      <td>...</td>\n",
       "      <td>...</td>\n",
       "      <td>...</td>\n",
       "      <td>...</td>\n",
       "      <td>...</td>\n",
       "      <td>...</td>\n",
       "    </tr>\n",
       "    <tr>\n",
       "      <th>93</th>\n",
       "      <td>NaT</td>\n",
       "      <td>London</td>\n",
       "      <td>8.4</td>\n",
       "      <td>76.000000</td>\n",
       "      <td>8.800000</td>\n",
       "      <td>Unknown</td>\n",
       "    </tr>\n",
       "    <tr>\n",
       "      <th>95</th>\n",
       "      <td>2023-01-01</td>\n",
       "      <td>London</td>\n",
       "      <td>8.4</td>\n",
       "      <td>58.978723</td>\n",
       "      <td>14.352727</td>\n",
       "      <td>Rainy</td>\n",
       "    </tr>\n",
       "    <tr>\n",
       "      <th>96</th>\n",
       "      <td>2023-01-09</td>\n",
       "      <td>London</td>\n",
       "      <td>8.4</td>\n",
       "      <td>58.978723</td>\n",
       "      <td>14.352727</td>\n",
       "      <td>Rainy</td>\n",
       "    </tr>\n",
       "    <tr>\n",
       "      <th>97</th>\n",
       "      <td>2023-01-11</td>\n",
       "      <td>Tokyo</td>\n",
       "      <td>8.4</td>\n",
       "      <td>58.978723</td>\n",
       "      <td>14.352727</td>\n",
       "      <td>Sunny</td>\n",
       "    </tr>\n",
       "    <tr>\n",
       "      <th>99</th>\n",
       "      <td>2023-12-01</td>\n",
       "      <td>London</td>\n",
       "      <td>13.7</td>\n",
       "      <td>41.000000</td>\n",
       "      <td>14.352727</td>\n",
       "      <td>Unknown</td>\n",
       "    </tr>\n",
       "  </tbody>\n",
       "</table>\n",
       "<p>74 rows × 6 columns</p>\n",
       "</div>"
      ],
      "text/plain": [
       "         date      city  temperature_celsius  humidity_percent  \\\n",
       "0  2023-01-01  New York                  5.0         60.000000   \n",
       "1  2023-02-01  New York                  8.4         65.000000   \n",
       "2  2023-01-03  New York                  7.0         58.978723   \n",
       "3         NaT    London                  8.0         70.000000   \n",
       "4  2023-01-02    London                  6.0         75.000000   \n",
       "..        ...       ...                  ...               ...   \n",
       "93        NaT    London                  8.4         76.000000   \n",
       "95 2023-01-01    London                  8.4         58.978723   \n",
       "96 2023-01-09    London                  8.4         58.978723   \n",
       "97 2023-01-11     Tokyo                  8.4         58.978723   \n",
       "99 2023-12-01    London                 13.7         41.000000   \n",
       "\n",
       "    wind_speed_kph weather_condition  \n",
       "0        10.000000             Sunny  \n",
       "1        12.000000            Cloudy  \n",
       "2         8.000000             Rainy  \n",
       "3        15.000000           Unknown  \n",
       "4        20.000000             Snowy  \n",
       "..             ...               ...  \n",
       "93        8.800000           Unknown  \n",
       "95       14.352727             Rainy  \n",
       "96       14.352727             Rainy  \n",
       "97       14.352727             Sunny  \n",
       "99       14.352727           Unknown  \n",
       "\n",
       "[74 rows x 6 columns]"
      ]
     },
     "execution_count": 30,
     "metadata": {},
     "output_type": "execute_result"
    }
   ],
   "source": [
    "# now lets drop where weather condition is null or unknown\n",
    "# for na values \n",
    "cleaned_data = imputed_data.dropna(subset=['weather_condition'])\n",
    "# for unknown values\n",
    "cleaned_data = cleaned_data[cleaned_data['weather_condition'] != 'unknown']\n",
    "cleaned_data"
   ]
  },
  {
   "cell_type": "code",
   "execution_count": null,
   "id": "712fab07",
   "metadata": {},
   "outputs": [],
   "source": [
    "cleaned_data.isnull().any(axis=1)\n",
    "cleaned_data # only displayes missing values from the date col so no need to drop rows since other columns are not affectedand no country data is missing\n"
   ]
  },
  {
   "cell_type": "markdown",
   "id": "d3a67db1",
   "metadata": {},
   "source": [
    "# The bonous  - Bonus (Optional): Create a bar chart of average temperature per city using \n",
    "# matplotlib or Seaborn "
   ]
  },
  {
   "cell_type": "code",
   "execution_count": 44,
   "id": "6b46ffa5",
   "metadata": {},
   "outputs": [
    {
     "data": {
      "image/png": "[encoded data removed]",
      "text/plain": [
       "<Figure size 640x480 with 1 Axes>"
      ]
     },
     "metadata": {},
     "output_type": "display_data"
    }
   ],
   "source": [
    "#Create a bar chart of average temperature per city using Matplotlib\n",
    "average_temp_per_city = cleaned_data.groupby(\"city\")['temperature_celsius'].mean().sort_values()\n",
    "average_temp_per_city.plot(kind='bar', color='skyblue')\n",
    "plt.title('Average Temperature per City')\n",
    "plt.xlabel('City')\n",
    "plt.ylabel('Average Temperature (°C)')\n",
    "\n",
    "plt.show()\n"
   ]
  }
 ],
 "metadata": {
  "kernelspec": {
   "display_name": "base",
   "language": "python",
   "name": "python3"
  },
  "language_info": {
   "codemirror_mode": {
    "name": "ipython",
    "version": 3
   },
   "file_extension": ".py",
   "mimetype": "text/x-python",
   "name": "python",
   "nbconvert_exporter": "python",
   "pygments_lexer": "ipython3",
   "version": "3.12.3"
  }
 },
 "nbformat": 4,
 "nbformat_minor": 5
}
